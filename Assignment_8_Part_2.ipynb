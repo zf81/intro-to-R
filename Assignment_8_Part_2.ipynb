{
  "nbformat": 4,
  "nbformat_minor": 0,
  "metadata": {
    "colab": {
      "provenance": []
    },
    "kernelspec": {
      "name": "ir",
      "display_name": "R"
    },
    "language_info": {
      "name": "R"
    }
  },
  "cells": [
    {
      "cell_type": "code",
      "execution_count": 1,
      "metadata": {
        "colab": {
          "base_uri": "https://localhost:8080/"
        },
        "id": "v1C02n818TTS",
        "outputId": "82388210-9440-472b-a268-1bfbdd1e3a07"
      },
      "outputs": [
        {
          "output_type": "stream",
          "name": "stderr",
          "text": [
            "Installing package into ‘/usr/local/lib/R/site-library’\n",
            "(as ‘lib’ is unspecified)\n",
            "\n",
            "also installing the dependencies ‘listenv’, ‘parallelly’, ‘future’, ‘globals’, ‘future.apply’, ‘numDeriv’, ‘progressr’, ‘SQUAREM’, ‘lava’, ‘prodlim’, ‘proxy’, ‘iterators’, ‘Rcpp’, ‘clock’, ‘gower’, ‘hardhat’, ‘ipred’, ‘timeDate’, ‘e1071’, ‘foreach’, ‘ModelMetrics’, ‘plyr’, ‘pROC’, ‘recipes’, ‘reshape2’\n",
            "\n",
            "\n"
          ]
        }
      ],
      "source": [
        "install.packages('caret')"
      ]
    },
    {
      "cell_type": "code",
      "source": [
        "install.packages(\"dplyr\")"
      ],
      "metadata": {
        "colab": {
          "base_uri": "https://localhost:8080/"
        },
        "id": "z764XUYQBZxo",
        "outputId": "7eeb389a-0bea-4a22-aa35-bf848c9a92e5"
      },
      "execution_count": 31,
      "outputs": [
        {
          "output_type": "stream",
          "name": "stderr",
          "text": [
            "Installing package into ‘/usr/local/lib/R/site-library’\n",
            "(as ‘lib’ is unspecified)\n",
            "\n"
          ]
        }
      ]
    },
    {
      "cell_type": "code",
      "source": [
        "install.packages('mlbench')"
      ],
      "metadata": {
        "colab": {
          "base_uri": "https://localhost:8080/"
        },
        "id": "sHJIAcoe_w69",
        "outputId": "6ba7bba9-7be2-438a-d173-abaa5a005136"
      },
      "execution_count": 2,
      "outputs": [
        {
          "output_type": "stream",
          "name": "stderr",
          "text": [
            "Installing package into ‘/usr/local/lib/R/site-library’\n",
            "(as ‘lib’ is unspecified)\n",
            "\n"
          ]
        }
      ]
    },
    {
      "cell_type": "code",
      "source": [
        "library(caret)\n",
        "library(ggplot2)\n",
        "library(mlbench)\n",
        "library(tidyverse)\n",
        "library(dplyr)\n",
        "library(stats)\n"
      ],
      "metadata": {
        "id": "k9QccJcp_3CG"
      },
      "execution_count": 32,
      "outputs": []
    },
    {
      "cell_type": "code",
      "source": [
        "### Chapter 1\n",
        "x <- 12"
      ],
      "metadata": {
        "id": "MTMix_edACUE"
      },
      "execution_count": 9,
      "outputs": []
    },
    {
      "cell_type": "code",
      "source": [
        "# create vector of integers from 0 to 9\n",
        "some_numbers <- c(0,1,2,3,4,5,6,7,8,9)\n",
        "# alternatively \n",
        "some_numbers <- c(0:9)\n",
        "some_numbers"
      ],
      "metadata": {
        "colab": {
          "base_uri": "https://localhost:8080/",
          "height": 34
        },
        "id": "ilLSBfCcAE2X",
        "outputId": "9a495450-cee1-49c5-eeee-3eaf4eb14a40"
      },
      "execution_count": 10,
      "outputs": [
        {
          "output_type": "display_data",
          "data": {
            "text/html": [
              "<style>\n",
              ".list-inline {list-style: none; margin:0; padding: 0}\n",
              ".list-inline>li {display: inline-block}\n",
              ".list-inline>li:not(:last-child)::after {content: \"\\00b7\"; padding: 0 .5ex}\n",
              "</style>\n",
              "<ol class=list-inline><li>0</li><li>1</li><li>2</li><li>3</li><li>4</li><li>5</li><li>6</li><li>7</li><li>8</li><li>9</li></ol>\n"
            ],
            "text/markdown": "1. 0\n2. 1\n3. 2\n4. 3\n5. 4\n6. 5\n7. 6\n8. 7\n9. 8\n10. 9\n\n\n",
            "text/latex": "\\begin{enumerate*}\n\\item 0\n\\item 1\n\\item 2\n\\item 3\n\\item 4\n\\item 5\n\\item 6\n\\item 7\n\\item 8\n\\item 9\n\\end{enumerate*}\n",
            "text/plain": [
              " [1] 0 1 2 3 4 5 6 7 8 9"
            ]
          },
          "metadata": {}
        }
      ]
    },
    {
      "cell_type": "code",
      "source": [
        "# R functions\n",
        "mean(some_numbers)"
      ],
      "metadata": {
        "colab": {
          "base_uri": "https://localhost:8080/",
          "height": 34
        },
        "id": "AKCNtRQAAHi8",
        "outputId": "956bcda0-10cd-47b2-9803-e841f9394046"
      },
      "execution_count": 11,
      "outputs": [
        {
          "output_type": "display_data",
          "data": {
            "text/html": [
              "4.5"
            ],
            "text/markdown": "4.5",
            "text/latex": "4.5",
            "text/plain": [
              "[1] 4.5"
            ]
          },
          "metadata": {}
        }
      ]
    },
    {
      "cell_type": "code",
      "source": [
        "### Chapter 2\n",
        "## loading data\n",
        "paygap <- read.csv('/content/UK-data/UK Gender Pay Gap Data - 2022 to 2023.csv', header = TRUE)\n"
      ],
      "metadata": {
        "id": "0b6_oRgRARfp"
      },
      "execution_count": 13,
      "outputs": []
    },
    {
      "cell_type": "code",
      "source": [
        "head(paygap, n = 5)"
      ],
      "metadata": {
        "colab": {
          "base_uri": "https://localhost:8080/",
          "height": 778
        },
        "id": "1dflPj8mAn8A",
        "outputId": "a76a4688-184e-4b95-8210-a3fb9285c299"
      },
      "execution_count": 14,
      "outputs": [
        {
          "output_type": "display_data",
          "data": {
            "text/html": [
              "<table class=\"dataframe\">\n",
              "<caption>A data.frame: 5 × 27</caption>\n",
              "<thead>\n",
              "\t<tr><th></th><th scope=col>EmployerName</th><th scope=col>EmployerId</th><th scope=col>Address</th><th scope=col>PostCode</th><th scope=col>CompanyNumber</th><th scope=col>SicCodes</th><th scope=col>DiffMeanHourlyPercent</th><th scope=col>DiffMedianHourlyPercent</th><th scope=col>DiffMeanBonusPercent</th><th scope=col>DiffMedianBonusPercent</th><th scope=col>⋯</th><th scope=col>FemaleUpperMiddleQuartile</th><th scope=col>MaleTopQuartile</th><th scope=col>FemaleTopQuartile</th><th scope=col>CompanyLinkToGPGInfo</th><th scope=col>ResponsiblePerson</th><th scope=col>EmployerSize</th><th scope=col>CurrentName</th><th scope=col>SubmittedAfterTheDeadline</th><th scope=col>DueDate</th><th scope=col>DateSubmitted</th></tr>\n",
              "\t<tr><th></th><th scope=col>&lt;chr&gt;</th><th scope=col>&lt;int&gt;</th><th scope=col>&lt;chr&gt;</th><th scope=col>&lt;chr&gt;</th><th scope=col>&lt;chr&gt;</th><th scope=col>&lt;chr&gt;</th><th scope=col>&lt;dbl&gt;</th><th scope=col>&lt;dbl&gt;</th><th scope=col>&lt;dbl&gt;</th><th scope=col>&lt;dbl&gt;</th><th scope=col>⋯</th><th scope=col>&lt;dbl&gt;</th><th scope=col>&lt;dbl&gt;</th><th scope=col>&lt;dbl&gt;</th><th scope=col>&lt;chr&gt;</th><th scope=col>&lt;chr&gt;</th><th scope=col>&lt;chr&gt;</th><th scope=col>&lt;chr&gt;</th><th scope=col>&lt;chr&gt;</th><th scope=col>&lt;chr&gt;</th><th scope=col>&lt;chr&gt;</th></tr>\n",
              "</thead>\n",
              "<tbody>\n",
              "\t<tr><th scope=row>1</th><td>1509 GROUP             </td><td>15320</td><td>Royal Grammar School, High Street, Guildford, Surrey, GU1 3BB               </td><td>GU1 3BB </td><td>04104101</td><td>85200,\n",
              "85310</td><td>16.13</td><td> 19.99</td><td>   NA</td><td>    NA</td><td>⋯</td><td>43.75</td><td>65.62</td><td>34.38</td><td>https://rgsg.co.uk                                                                                                             </td><td>Catherine Perceval (Bursar)                  </td><td>250 to 499  </td><td>1509 GROUP             </td><td>False</td><td>2023/04/05 00:00:00</td><td>2022/11/08 14:07:47</td></tr>\n",
              "\t<tr><th scope=row>2</th><td>A P P WHOLESALE LIMITED</td><td>21477</td><td>Unit 1 Radford Industrial Estate, Goodhall Street, London, England, NW10 6UA</td><td>NW10 6UA</td><td>06552800</td><td>46740        </td><td>11.60</td><td>-17.60</td><td> 37.1</td><td>   0.0</td><td>⋯</td><td>13.10</td><td>78.50</td><td>21.50</td><td>https://www.lordsgrouptradingplc.co.uk/docs/lordsgrouptradinglimitedlibraries/archive/gender-pay-gap/gender-pay-report-2022.pdf</td><td>Chris Day (CFO)                              </td><td>250 to 499  </td><td>A P P WHOLESALE LIMITED</td><td>False</td><td>2023/04/05 00:00:00</td><td>2022/12/12 14:59:46</td></tr>\n",
              "\t<tr><th scope=row>3</th><td>A.J.N. STEELSTOCK LTD. </td><td>14835</td><td>Icknield Way, Kentford, Newmarket, Suffolk, CB8 7QT                         </td><td>CB8 7QT </td><td>00689647</td><td>46720        </td><td>16.20</td><td>  3.30</td><td>-20.0</td><td>   0.0</td><td>⋯</td><td>10.80</td><td>87.10</td><td>12.90</td><td>https://www.ajnsteelstock.co.uk/wp-content/uploads/2022/10/2022-Gender-Pay-Gap-Report.pdf                                      </td><td>Courtney Bell (FD)                           </td><td>250 to 499  </td><td>A.J.N. STEELSTOCK LTD. </td><td>False</td><td>2023/04/05 00:00:00</td><td>2022/10/11 15:34:17</td></tr>\n",
              "\t<tr><th scope=row>4</th><td><span style=white-space:pre-wrap>AB AGRI LIMITED        </span></td><td><span style=white-space:pre-wrap>  762</span></td><td><span style=white-space:pre-wrap>Weston Centre, 10 Grosvenor Street, London, W1K 4QY                         </span></td><td>W1K 4QY </td><td>00193800</td><td><span style=white-space:pre-wrap>10910        </span></td><td>-1.20</td><td> -7.40</td><td> -7.3</td><td>-163.1</td><td>⋯</td><td>29.20</td><td>63.80</td><td>36.20</td><td><span style=white-space:pre-wrap>                                                                                                                               </span></td><td>Craig Peck (Head of Reward &amp; Global Mobility)</td><td>1000 to 4999</td><td><span style=white-space:pre-wrap>AB AGRI LIMITED        </span></td><td>False</td><td>2023/04/05 00:00:00</td><td>2022/12/12 11:07:20</td></tr>\n",
              "\t<tr><th scope=row>5</th><td>AB WORLD FOODS LIMITED </td><td>  764</td><td>Weston Centre, 10 Grosvenor Street, London, W1K 4QY                         </td><td>W1K 4QY </td><td>01400901</td><td>10890        </td><td>-8.60</td><td>-12.30</td><td> 10.3</td><td> -20.8</td><td>⋯</td><td>33.70</td><td>44.60</td><td>55.40</td><td>https://abworldfoods.com/documents/ABWF_Gender_Pay_Gap_Narrative_2022.pdf                                                      </td><td>Andy Mayhew (Managing Director)              </td><td>250 to 499  </td><td>AB WORLD FOODS LIMITED </td><td>False</td><td>2023/04/05 00:00:00</td><td>2022/09/30 09:45:25</td></tr>\n",
              "</tbody>\n",
              "</table>\n"
            ],
            "text/markdown": "\nA data.frame: 5 × 27\n\n| <!--/--> | EmployerName &lt;chr&gt; | EmployerId &lt;int&gt; | Address &lt;chr&gt; | PostCode &lt;chr&gt; | CompanyNumber &lt;chr&gt; | SicCodes &lt;chr&gt; | DiffMeanHourlyPercent &lt;dbl&gt; | DiffMedianHourlyPercent &lt;dbl&gt; | DiffMeanBonusPercent &lt;dbl&gt; | DiffMedianBonusPercent &lt;dbl&gt; | ⋯ ⋯ | FemaleUpperMiddleQuartile &lt;dbl&gt; | MaleTopQuartile &lt;dbl&gt; | FemaleTopQuartile &lt;dbl&gt; | CompanyLinkToGPGInfo &lt;chr&gt; | ResponsiblePerson &lt;chr&gt; | EmployerSize &lt;chr&gt; | CurrentName &lt;chr&gt; | SubmittedAfterTheDeadline &lt;chr&gt; | DueDate &lt;chr&gt; | DateSubmitted &lt;chr&gt; |\n|---|---|---|---|---|---|---|---|---|---|---|---|---|---|---|---|---|---|---|---|---|---|\n| 1 | 1509 GROUP              | 15320 | Royal Grammar School, High Street, Guildford, Surrey, GU1 3BB                | GU1 3BB  | 04104101 | 85200,\n85310 | 16.13 |  19.99 |    NA |     NA | ⋯ | 43.75 | 65.62 | 34.38 | https://rgsg.co.uk                                                                                                              | Catherine Perceval (Bursar)                   | 250 to 499   | 1509 GROUP              | False | 2023/04/05 00:00:00 | 2022/11/08 14:07:47 |\n| 2 | A P P WHOLESALE LIMITED | 21477 | Unit 1 Radford Industrial Estate, Goodhall Street, London, England, NW10 6UA | NW10 6UA | 06552800 | 46740         | 11.60 | -17.60 |  37.1 |    0.0 | ⋯ | 13.10 | 78.50 | 21.50 | https://www.lordsgrouptradingplc.co.uk/docs/lordsgrouptradinglimitedlibraries/archive/gender-pay-gap/gender-pay-report-2022.pdf | Chris Day (CFO)                               | 250 to 499   | A P P WHOLESALE LIMITED | False | 2023/04/05 00:00:00 | 2022/12/12 14:59:46 |\n| 3 | A.J.N. STEELSTOCK LTD.  | 14835 | Icknield Way, Kentford, Newmarket, Suffolk, CB8 7QT                          | CB8 7QT  | 00689647 | 46720         | 16.20 |   3.30 | -20.0 |    0.0 | ⋯ | 10.80 | 87.10 | 12.90 | https://www.ajnsteelstock.co.uk/wp-content/uploads/2022/10/2022-Gender-Pay-Gap-Report.pdf                                       | Courtney Bell (FD)                            | 250 to 499   | A.J.N. STEELSTOCK LTD.  | False | 2023/04/05 00:00:00 | 2022/10/11 15:34:17 |\n| 4 | AB AGRI LIMITED         |   762 | Weston Centre, 10 Grosvenor Street, London, W1K 4QY                          | W1K 4QY  | 00193800 | 10910         | -1.20 |  -7.40 |  -7.3 | -163.1 | ⋯ | 29.20 | 63.80 | 36.20 | <!----> | Craig Peck (Head of Reward &amp; Global Mobility) | 1000 to 4999 | AB AGRI LIMITED         | False | 2023/04/05 00:00:00 | 2022/12/12 11:07:20 |\n| 5 | AB WORLD FOODS LIMITED  |   764 | Weston Centre, 10 Grosvenor Street, London, W1K 4QY                          | W1K 4QY  | 01400901 | 10890         | -8.60 | -12.30 |  10.3 |  -20.8 | ⋯ | 33.70 | 44.60 | 55.40 | https://abworldfoods.com/documents/ABWF_Gender_Pay_Gap_Narrative_2022.pdf                                                       | Andy Mayhew (Managing Director)               | 250 to 499   | AB WORLD FOODS LIMITED  | False | 2023/04/05 00:00:00 | 2022/09/30 09:45:25 |\n\n",
            "text/latex": "A data.frame: 5 × 27\n\\begin{tabular}{r|lllllllllllllllllllll}\n  & EmployerName & EmployerId & Address & PostCode & CompanyNumber & SicCodes & DiffMeanHourlyPercent & DiffMedianHourlyPercent & DiffMeanBonusPercent & DiffMedianBonusPercent & ⋯ & FemaleUpperMiddleQuartile & MaleTopQuartile & FemaleTopQuartile & CompanyLinkToGPGInfo & ResponsiblePerson & EmployerSize & CurrentName & SubmittedAfterTheDeadline & DueDate & DateSubmitted\\\\\n  & <chr> & <int> & <chr> & <chr> & <chr> & <chr> & <dbl> & <dbl> & <dbl> & <dbl> & ⋯ & <dbl> & <dbl> & <dbl> & <chr> & <chr> & <chr> & <chr> & <chr> & <chr> & <chr>\\\\\n\\hline\n\t1 & 1509 GROUP              & 15320 & Royal Grammar School, High Street, Guildford, Surrey, GU1 3BB                & GU1 3BB  & 04104101 & 85200,\n85310 & 16.13 &  19.99 &    NA &     NA & ⋯ & 43.75 & 65.62 & 34.38 & https://rgsg.co.uk                                                                                                              & Catherine Perceval (Bursar)                   & 250 to 499   & 1509 GROUP              & False & 2023/04/05 00:00:00 & 2022/11/08 14:07:47\\\\\n\t2 & A P P WHOLESALE LIMITED & 21477 & Unit 1 Radford Industrial Estate, Goodhall Street, London, England, NW10 6UA & NW10 6UA & 06552800 & 46740         & 11.60 & -17.60 &  37.1 &    0.0 & ⋯ & 13.10 & 78.50 & 21.50 & https://www.lordsgrouptradingplc.co.uk/docs/lordsgrouptradinglimitedlibraries/archive/gender-pay-gap/gender-pay-report-2022.pdf & Chris Day (CFO)                               & 250 to 499   & A P P WHOLESALE LIMITED & False & 2023/04/05 00:00:00 & 2022/12/12 14:59:46\\\\\n\t3 & A.J.N. STEELSTOCK LTD.  & 14835 & Icknield Way, Kentford, Newmarket, Suffolk, CB8 7QT                          & CB8 7QT  & 00689647 & 46720         & 16.20 &   3.30 & -20.0 &    0.0 & ⋯ & 10.80 & 87.10 & 12.90 & https://www.ajnsteelstock.co.uk/wp-content/uploads/2022/10/2022-Gender-Pay-Gap-Report.pdf                                       & Courtney Bell (FD)                            & 250 to 499   & A.J.N. STEELSTOCK LTD.  & False & 2023/04/05 00:00:00 & 2022/10/11 15:34:17\\\\\n\t4 & AB AGRI LIMITED         &   762 & Weston Centre, 10 Grosvenor Street, London, W1K 4QY                          & W1K 4QY  & 00193800 & 10910         & -1.20 &  -7.40 &  -7.3 & -163.1 & ⋯ & 29.20 & 63.80 & 36.20 &                                                                                                                                 & Craig Peck (Head of Reward \\& Global Mobility) & 1000 to 4999 & AB AGRI LIMITED         & False & 2023/04/05 00:00:00 & 2022/12/12 11:07:20\\\\\n\t5 & AB WORLD FOODS LIMITED  &   764 & Weston Centre, 10 Grosvenor Street, London, W1K 4QY                          & W1K 4QY  & 01400901 & 10890         & -8.60 & -12.30 &  10.3 &  -20.8 & ⋯ & 33.70 & 44.60 & 55.40 & https://abworldfoods.com/documents/ABWF\\_Gender\\_Pay\\_Gap\\_Narrative\\_2022.pdf                                                       & Andy Mayhew (Managing Director)               & 250 to 499   & AB WORLD FOODS LIMITED  & False & 2023/04/05 00:00:00 & 2022/09/30 09:45:25\\\\\n\\end{tabular}\n",
            "text/plain": [
              "  EmployerName            EmployerId\n",
              "1 1509 GROUP              15320     \n",
              "2 A P P WHOLESALE LIMITED 21477     \n",
              "3 A.J.N. STEELSTOCK LTD.  14835     \n",
              "4 AB AGRI LIMITED           762     \n",
              "5 AB WORLD FOODS LIMITED    764     \n",
              "  Address                                                                     \n",
              "1 Royal Grammar School, High Street, Guildford, Surrey, GU1 3BB               \n",
              "2 Unit 1 Radford Industrial Estate, Goodhall Street, London, England, NW10 6UA\n",
              "3 Icknield Way, Kentford, Newmarket, Suffolk, CB8 7QT                         \n",
              "4 Weston Centre, 10 Grosvenor Street, London, W1K 4QY                         \n",
              "5 Weston Centre, 10 Grosvenor Street, London, W1K 4QY                         \n",
              "  PostCode CompanyNumber SicCodes      DiffMeanHourlyPercent\n",
              "1 GU1 3BB  04104101      85200,\\n85310 16.13                \n",
              "2 NW10 6UA 06552800      46740         11.60                \n",
              "3 CB8 7QT  00689647      46720         16.20                \n",
              "4 W1K 4QY  00193800      10910         -1.20                \n",
              "5 W1K 4QY  01400901      10890         -8.60                \n",
              "  DiffMedianHourlyPercent DiffMeanBonusPercent DiffMedianBonusPercent ⋯\n",
              "1  19.99                     NA                    NA                 ⋯\n",
              "2 -17.60                   37.1                   0.0                 ⋯\n",
              "3   3.30                  -20.0                   0.0                 ⋯\n",
              "4  -7.40                   -7.3                -163.1                 ⋯\n",
              "5 -12.30                   10.3                 -20.8                 ⋯\n",
              "  FemaleUpperMiddleQuartile MaleTopQuartile FemaleTopQuartile\n",
              "1 43.75                     65.62           34.38            \n",
              "2 13.10                     78.50           21.50            \n",
              "3 10.80                     87.10           12.90            \n",
              "4 29.20                     63.80           36.20            \n",
              "5 33.70                     44.60           55.40            \n",
              "  CompanyLinkToGPGInfo                                                                                                           \n",
              "1 https://rgsg.co.uk                                                                                                             \n",
              "2 https://www.lordsgrouptradingplc.co.uk/docs/lordsgrouptradinglimitedlibraries/archive/gender-pay-gap/gender-pay-report-2022.pdf\n",
              "3 https://www.ajnsteelstock.co.uk/wp-content/uploads/2022/10/2022-Gender-Pay-Gap-Report.pdf                                      \n",
              "4                                                                                                                                \n",
              "5 https://abworldfoods.com/documents/ABWF_Gender_Pay_Gap_Narrative_2022.pdf                                                      \n",
              "  ResponsiblePerson                             EmployerSize\n",
              "1 Catherine Perceval (Bursar)                   250 to 499  \n",
              "2 Chris Day (CFO)                               250 to 499  \n",
              "3 Courtney Bell (FD)                            250 to 499  \n",
              "4 Craig Peck (Head of Reward & Global Mobility) 1000 to 4999\n",
              "5 Andy Mayhew (Managing Director)               250 to 499  \n",
              "  CurrentName             SubmittedAfterTheDeadline DueDate            \n",
              "1 1509 GROUP              False                     2023/04/05 00:00:00\n",
              "2 A P P WHOLESALE LIMITED False                     2023/04/05 00:00:00\n",
              "3 A.J.N. STEELSTOCK LTD.  False                     2023/04/05 00:00:00\n",
              "4 AB AGRI LIMITED         False                     2023/04/05 00:00:00\n",
              "5 AB WORLD FOODS LIMITED  False                     2023/04/05 00:00:00\n",
              "  DateSubmitted      \n",
              "1 2022/11/08 14:07:47\n",
              "2 2022/12/12 14:59:46\n",
              "3 2022/10/11 15:34:17\n",
              "4 2022/12/12 11:07:20\n",
              "5 2022/09/30 09:45:25"
            ]
          },
          "metadata": {}
        }
      ]
    },
    {
      "cell_type": "code",
      "source": [
        "colnames(paygap)"
      ],
      "metadata": {
        "colab": {
          "base_uri": "https://localhost:8080/",
          "height": 86
        },
        "id": "ZkEYfS2LApJC",
        "outputId": "59c732f8-26d6-4e35-c4d0-5ac6e498eaac"
      },
      "execution_count": 15,
      "outputs": [
        {
          "output_type": "display_data",
          "data": {
            "text/html": [
              "<style>\n",
              ".list-inline {list-style: none; margin:0; padding: 0}\n",
              ".list-inline>li {display: inline-block}\n",
              ".list-inline>li:not(:last-child)::after {content: \"\\00b7\"; padding: 0 .5ex}\n",
              "</style>\n",
              "<ol class=list-inline><li>'EmployerName'</li><li>'EmployerId'</li><li>'Address'</li><li>'PostCode'</li><li>'CompanyNumber'</li><li>'SicCodes'</li><li>'DiffMeanHourlyPercent'</li><li>'DiffMedianHourlyPercent'</li><li>'DiffMeanBonusPercent'</li><li>'DiffMedianBonusPercent'</li><li>'MaleBonusPercent'</li><li>'FemaleBonusPercent'</li><li>'MaleLowerQuartile'</li><li>'FemaleLowerQuartile'</li><li>'MaleLowerMiddleQuartile'</li><li>'FemaleLowerMiddleQuartile'</li><li>'MaleUpperMiddleQuartile'</li><li>'FemaleUpperMiddleQuartile'</li><li>'MaleTopQuartile'</li><li>'FemaleTopQuartile'</li><li>'CompanyLinkToGPGInfo'</li><li>'ResponsiblePerson'</li><li>'EmployerSize'</li><li>'CurrentName'</li><li>'SubmittedAfterTheDeadline'</li><li>'DueDate'</li><li>'DateSubmitted'</li></ol>\n"
            ],
            "text/markdown": "1. 'EmployerName'\n2. 'EmployerId'\n3. 'Address'\n4. 'PostCode'\n5. 'CompanyNumber'\n6. 'SicCodes'\n7. 'DiffMeanHourlyPercent'\n8. 'DiffMedianHourlyPercent'\n9. 'DiffMeanBonusPercent'\n10. 'DiffMedianBonusPercent'\n11. 'MaleBonusPercent'\n12. 'FemaleBonusPercent'\n13. 'MaleLowerQuartile'\n14. 'FemaleLowerQuartile'\n15. 'MaleLowerMiddleQuartile'\n16. 'FemaleLowerMiddleQuartile'\n17. 'MaleUpperMiddleQuartile'\n18. 'FemaleUpperMiddleQuartile'\n19. 'MaleTopQuartile'\n20. 'FemaleTopQuartile'\n21. 'CompanyLinkToGPGInfo'\n22. 'ResponsiblePerson'\n23. 'EmployerSize'\n24. 'CurrentName'\n25. 'SubmittedAfterTheDeadline'\n26. 'DueDate'\n27. 'DateSubmitted'\n\n\n",
            "text/latex": "\\begin{enumerate*}\n\\item 'EmployerName'\n\\item 'EmployerId'\n\\item 'Address'\n\\item 'PostCode'\n\\item 'CompanyNumber'\n\\item 'SicCodes'\n\\item 'DiffMeanHourlyPercent'\n\\item 'DiffMedianHourlyPercent'\n\\item 'DiffMeanBonusPercent'\n\\item 'DiffMedianBonusPercent'\n\\item 'MaleBonusPercent'\n\\item 'FemaleBonusPercent'\n\\item 'MaleLowerQuartile'\n\\item 'FemaleLowerQuartile'\n\\item 'MaleLowerMiddleQuartile'\n\\item 'FemaleLowerMiddleQuartile'\n\\item 'MaleUpperMiddleQuartile'\n\\item 'FemaleUpperMiddleQuartile'\n\\item 'MaleTopQuartile'\n\\item 'FemaleTopQuartile'\n\\item 'CompanyLinkToGPGInfo'\n\\item 'ResponsiblePerson'\n\\item 'EmployerSize'\n\\item 'CurrentName'\n\\item 'SubmittedAfterTheDeadline'\n\\item 'DueDate'\n\\item 'DateSubmitted'\n\\end{enumerate*}\n",
            "text/plain": [
              " [1] \"EmployerName\"              \"EmployerId\"               \n",
              " [3] \"Address\"                   \"PostCode\"                 \n",
              " [5] \"CompanyNumber\"             \"SicCodes\"                 \n",
              " [7] \"DiffMeanHourlyPercent\"     \"DiffMedianHourlyPercent\"  \n",
              " [9] \"DiffMeanBonusPercent\"      \"DiffMedianBonusPercent\"   \n",
              "[11] \"MaleBonusPercent\"          \"FemaleBonusPercent\"       \n",
              "[13] \"MaleLowerQuartile\"         \"FemaleLowerQuartile\"      \n",
              "[15] \"MaleLowerMiddleQuartile\"   \"FemaleLowerMiddleQuartile\"\n",
              "[17] \"MaleUpperMiddleQuartile\"   \"FemaleUpperMiddleQuartile\"\n",
              "[19] \"MaleTopQuartile\"           \"FemaleTopQuartile\"        \n",
              "[21] \"CompanyLinkToGPGInfo\"      \"ResponsiblePerson\"        \n",
              "[23] \"EmployerSize\"              \"CurrentName\"              \n",
              "[25] \"SubmittedAfterTheDeadline\" \"DueDate\"                  \n",
              "[27] \"DateSubmitted\"            "
            ]
          },
          "metadata": {}
        }
      ]
    },
    {
      "cell_type": "code",
      "source": [
        "dim(paygap)"
      ],
      "metadata": {
        "colab": {
          "base_uri": "https://localhost:8080/",
          "height": 34
        },
        "id": "GYhkkIiaAr4h",
        "outputId": "8791eba9-4d53-4c2f-ace6-a1bb820f3757"
      },
      "execution_count": 16,
      "outputs": [
        {
          "output_type": "display_data",
          "data": {
            "text/html": [
              "<style>\n",
              ".list-inline {list-style: none; margin:0; padding: 0}\n",
              ".list-inline>li {display: inline-block}\n",
              ".list-inline>li:not(:last-child)::after {content: \"\\00b7\"; padding: 0 .5ex}\n",
              "</style>\n",
              "<ol class=list-inline><li>668</li><li>27</li></ol>\n"
            ],
            "text/markdown": "1. 668\n2. 27\n\n\n",
            "text/latex": "\\begin{enumerate*}\n\\item 668\n\\item 27\n\\end{enumerate*}\n",
            "text/plain": [
              "[1] 668  27"
            ]
          },
          "metadata": {}
        }
      ]
    },
    {
      "cell_type": "code",
      "source": [
        "class(paygap)"
      ],
      "metadata": {
        "colab": {
          "base_uri": "https://localhost:8080/",
          "height": 34
        },
        "id": "krp-SiHZAuOr",
        "outputId": "0b4bafc9-c352-4bca-c46e-c290bd691476"
      },
      "execution_count": 17,
      "outputs": [
        {
          "output_type": "display_data",
          "data": {
            "text/html": [
              "'data.frame'"
            ],
            "text/markdown": "'data.frame'",
            "text/latex": "'data.frame'",
            "text/plain": [
              "[1] \"data.frame\""
            ]
          },
          "metadata": {}
        }
      ]
    },
    {
      "cell_type": "code",
      "source": [
        "class(paygap$DiffMeanHourlyPercent)"
      ],
      "metadata": {
        "colab": {
          "base_uri": "https://localhost:8080/",
          "height": 34
        },
        "id": "IXquk4AdAw6T",
        "outputId": "de6f638f-c43a-4977-fd31-18f4a564561a"
      },
      "execution_count": 18,
      "outputs": [
        {
          "output_type": "display_data",
          "data": {
            "text/html": [
              "'numeric'"
            ],
            "text/markdown": "'numeric'",
            "text/latex": "'numeric'",
            "text/plain": [
              "[1] \"numeric\""
            ]
          },
          "metadata": {}
        }
      ]
    },
    {
      "cell_type": "markdown",
      "source": [
        "# Chapter 3"
      ],
      "metadata": {
        "id": "qx94BDuCAzQ6"
      }
    },
    {
      "cell_type": "code",
      "source": [
        "bodytemp <- c(97.1,97.1,97.1,97.2,97.3,97.4,97.4,97.4,97.4,97.5,97.5,97.6,97.6,97.6)\n",
        "gender <- c(1,1,1,1,1,1,1,1,1,1,1,1,1,1)\n",
        "heartrate <- c(73,75,82,64,69,70,68,72,78,70,75,74,69,69)"
      ],
      "metadata": {
        "id": "yit5h6-1A03V"
      },
      "execution_count": 19,
      "outputs": []
    },
    {
      "cell_type": "code",
      "source": [
        "cardiacdata <- data.frame(bodytemp = bodytemp, gender = gender, heartrate = heartrate)"
      ],
      "metadata": {
        "id": "I4trde61A4rb"
      },
      "execution_count": 21,
      "outputs": []
    },
    {
      "cell_type": "code",
      "source": [
        "cardiacdata[1,3]"
      ],
      "metadata": {
        "colab": {
          "base_uri": "https://localhost:8080/",
          "height": 34
        },
        "id": "Npy-ShN3A6kw",
        "outputId": "759d032a-2e77-4042-bb16-f50dbbdfdcb1"
      },
      "execution_count": 22,
      "outputs": [
        {
          "output_type": "display_data",
          "data": {
            "text/html": [
              "73"
            ],
            "text/markdown": "73",
            "text/latex": "73",
            "text/plain": [
              "[1] 73"
            ]
          },
          "metadata": {}
        }
      ]
    },
    {
      "cell_type": "code",
      "source": [
        "cardiacdata[5:7,1:3]"
      ],
      "metadata": {
        "colab": {
          "base_uri": "https://localhost:8080/",
          "height": 192
        },
        "id": "kdZo-c5vA9Jd",
        "outputId": "a9b94a16-2793-447a-a7a3-be7a1a97deca"
      },
      "execution_count": 23,
      "outputs": [
        {
          "output_type": "display_data",
          "data": {
            "text/html": [
              "<table class=\"dataframe\">\n",
              "<caption>A data.frame: 3 × 3</caption>\n",
              "<thead>\n",
              "\t<tr><th></th><th scope=col>bodytemp</th><th scope=col>gender</th><th scope=col>heartrate</th></tr>\n",
              "\t<tr><th></th><th scope=col>&lt;dbl&gt;</th><th scope=col>&lt;dbl&gt;</th><th scope=col>&lt;dbl&gt;</th></tr>\n",
              "</thead>\n",
              "<tbody>\n",
              "\t<tr><th scope=row>5</th><td>97.3</td><td>1</td><td>69</td></tr>\n",
              "\t<tr><th scope=row>6</th><td>97.4</td><td>1</td><td>70</td></tr>\n",
              "\t<tr><th scope=row>7</th><td>97.4</td><td>1</td><td>68</td></tr>\n",
              "</tbody>\n",
              "</table>\n"
            ],
            "text/markdown": "\nA data.frame: 3 × 3\n\n| <!--/--> | bodytemp &lt;dbl&gt; | gender &lt;dbl&gt; | heartrate &lt;dbl&gt; |\n|---|---|---|---|\n| 5 | 97.3 | 1 | 69 |\n| 6 | 97.4 | 1 | 70 |\n| 7 | 97.4 | 1 | 68 |\n\n",
            "text/latex": "A data.frame: 3 × 3\n\\begin{tabular}{r|lll}\n  & bodytemp & gender & heartrate\\\\\n  & <dbl> & <dbl> & <dbl>\\\\\n\\hline\n\t5 & 97.3 & 1 & 69\\\\\n\t6 & 97.4 & 1 & 70\\\\\n\t7 & 97.4 & 1 & 68\\\\\n\\end{tabular}\n",
            "text/plain": [
              "  bodytemp gender heartrate\n",
              "5 97.3     1      69       \n",
              "6 97.4     1      70       \n",
              "7 97.4     1      68       "
            ]
          },
          "metadata": {}
        }
      ]
    },
    {
      "cell_type": "code",
      "source": [
        "temperatures <- cardiacdata$bodytemp "
      ],
      "metadata": {
        "id": "Su-Vo0w4A_Ix"
      },
      "execution_count": 24,
      "outputs": []
    },
    {
      "cell_type": "code",
      "source": [
        "colnames(cardiacdata)"
      ],
      "metadata": {
        "colab": {
          "base_uri": "https://localhost:8080/",
          "height": 34
        },
        "id": "tEDrxaMOBA1j",
        "outputId": "7e83599d-9c6c-4d4d-93d5-d5bab0451f32"
      },
      "execution_count": 25,
      "outputs": [
        {
          "output_type": "display_data",
          "data": {
            "text/html": [
              "<style>\n",
              ".list-inline {list-style: none; margin:0; padding: 0}\n",
              ".list-inline>li {display: inline-block}\n",
              ".list-inline>li:not(:last-child)::after {content: \"\\00b7\"; padding: 0 .5ex}\n",
              "</style>\n",
              "<ol class=list-inline><li>'bodytemp'</li><li>'gender'</li><li>'heartrate'</li></ol>\n"
            ],
            "text/markdown": "1. 'bodytemp'\n2. 'gender'\n3. 'heartrate'\n\n\n",
            "text/latex": "\\begin{enumerate*}\n\\item 'bodytemp'\n\\item 'gender'\n\\item 'heartrate'\n\\end{enumerate*}\n",
            "text/plain": [
              "[1] \"bodytemp\"  \"gender\"    \"heartrate\""
            ]
          },
          "metadata": {}
        }
      ]
    },
    {
      "cell_type": "code",
      "source": [
        "dim(cardiacdata)"
      ],
      "metadata": {
        "colab": {
          "base_uri": "https://localhost:8080/",
          "height": 34
        },
        "id": "_j2FsPbgBCxk",
        "outputId": "fd5b2f96-a608-4814-ac16-d49ffdc9159b"
      },
      "execution_count": 26,
      "outputs": [
        {
          "output_type": "display_data",
          "data": {
            "text/html": [
              "<style>\n",
              ".list-inline {list-style: none; margin:0; padding: 0}\n",
              ".list-inline>li {display: inline-block}\n",
              ".list-inline>li:not(:last-child)::after {content: \"\\00b7\"; padding: 0 .5ex}\n",
              "</style>\n",
              "<ol class=list-inline><li>14</li><li>3</li></ol>\n"
            ],
            "text/markdown": "1. 14\n2. 3\n\n\n",
            "text/latex": "\\begin{enumerate*}\n\\item 14\n\\item 3\n\\end{enumerate*}\n",
            "text/plain": [
              "[1] 14  3"
            ]
          },
          "metadata": {}
        }
      ]
    },
    {
      "cell_type": "code",
      "source": [
        "class(cardiacdata)"
      ],
      "metadata": {
        "colab": {
          "base_uri": "https://localhost:8080/",
          "height": 34
        },
        "id": "cBGGzvb6BF2M",
        "outputId": "2058a512-38b0-49e0-9d42-e15fba0a26e6"
      },
      "execution_count": 27,
      "outputs": [
        {
          "output_type": "display_data",
          "data": {
            "text/html": [
              "'data.frame'"
            ],
            "text/markdown": "'data.frame'",
            "text/latex": "'data.frame'",
            "text/plain": [
              "[1] \"data.frame\""
            ]
          },
          "metadata": {}
        }
      ]
    },
    {
      "cell_type": "code",
      "source": [
        "class(cardiacdata$bodytemp)"
      ],
      "metadata": {
        "colab": {
          "base_uri": "https://localhost:8080/",
          "height": 34
        },
        "id": "O8AKfMdnBKjq",
        "outputId": "8eb81031-90c1-4d48-e467-700d9584c681"
      },
      "execution_count": 28,
      "outputs": [
        {
          "output_type": "display_data",
          "data": {
            "text/html": [
              "'numeric'"
            ],
            "text/markdown": "'numeric'",
            "text/latex": "'numeric'",
            "text/plain": [
              "[1] \"numeric\""
            ]
          },
          "metadata": {}
        }
      ]
    },
    {
      "cell_type": "code",
      "source": [
        "class(cardiacdata$heartrate)"
      ],
      "metadata": {
        "colab": {
          "base_uri": "https://localhost:8080/",
          "height": 34
        },
        "id": "RxMZeKs3BQat",
        "outputId": "67b5a030-02f6-4f06-b911-fa1871e18d30"
      },
      "execution_count": 29,
      "outputs": [
        {
          "output_type": "display_data",
          "data": {
            "text/html": [
              "'numeric'"
            ],
            "text/markdown": "'numeric'",
            "text/latex": "'numeric'",
            "text/plain": [
              "[1] \"numeric\""
            ]
          },
          "metadata": {}
        }
      ]
    },
    {
      "cell_type": "code",
      "source": [
        "temperatures <- cardiacdata$bodytemp"
      ],
      "metadata": {
        "id": "PhTHPN0mBTIr"
      },
      "execution_count": 30,
      "outputs": []
    },
    {
      "cell_type": "code",
      "source": [
        "heartrates <- select(cardiacdata, gender, heartrate)"
      ],
      "metadata": {
        "id": "WbOb32nWBfNo"
      },
      "execution_count": 33,
      "outputs": []
    },
    {
      "cell_type": "code",
      "source": [
        "cardiacdata <- rename(cardiacdata, bodytemp_degF = bodytemp)"
      ],
      "metadata": {
        "id": "biKXaBBPBhPW"
      },
      "execution_count": 34,
      "outputs": []
    },
    {
      "cell_type": "code",
      "source": [
        "cardiacdata <- rename(cardiacdata, heartrate_bpm = heartrate)"
      ],
      "metadata": {
        "id": "BIc7AtK_Bjta"
      },
      "execution_count": 35,
      "outputs": []
    },
    {
      "cell_type": "code",
      "source": [
        "head(cardiacdata)"
      ],
      "metadata": {
        "colab": {
          "base_uri": "https://localhost:8080/",
          "height": 286
        },
        "id": "kwc5PIRuBljb",
        "outputId": "865afd96-acdd-4cd0-d6df-241c60ceef7b"
      },
      "execution_count": 36,
      "outputs": [
        {
          "output_type": "display_data",
          "data": {
            "text/html": [
              "<table class=\"dataframe\">\n",
              "<caption>A data.frame: 6 × 3</caption>\n",
              "<thead>\n",
              "\t<tr><th></th><th scope=col>bodytemp_degF</th><th scope=col>gender</th><th scope=col>heartrate_bpm</th></tr>\n",
              "\t<tr><th></th><th scope=col>&lt;dbl&gt;</th><th scope=col>&lt;dbl&gt;</th><th scope=col>&lt;dbl&gt;</th></tr>\n",
              "</thead>\n",
              "<tbody>\n",
              "\t<tr><th scope=row>1</th><td>97.1</td><td>1</td><td>73</td></tr>\n",
              "\t<tr><th scope=row>2</th><td>97.1</td><td>1</td><td>75</td></tr>\n",
              "\t<tr><th scope=row>3</th><td>97.1</td><td>1</td><td>82</td></tr>\n",
              "\t<tr><th scope=row>4</th><td>97.2</td><td>1</td><td>64</td></tr>\n",
              "\t<tr><th scope=row>5</th><td>97.3</td><td>1</td><td>69</td></tr>\n",
              "\t<tr><th scope=row>6</th><td>97.4</td><td>1</td><td>70</td></tr>\n",
              "</tbody>\n",
              "</table>\n"
            ],
            "text/markdown": "\nA data.frame: 6 × 3\n\n| <!--/--> | bodytemp_degF &lt;dbl&gt; | gender &lt;dbl&gt; | heartrate_bpm &lt;dbl&gt; |\n|---|---|---|---|\n| 1 | 97.1 | 1 | 73 |\n| 2 | 97.1 | 1 | 75 |\n| 3 | 97.1 | 1 | 82 |\n| 4 | 97.2 | 1 | 64 |\n| 5 | 97.3 | 1 | 69 |\n| 6 | 97.4 | 1 | 70 |\n\n",
            "text/latex": "A data.frame: 6 × 3\n\\begin{tabular}{r|lll}\n  & bodytemp\\_degF & gender & heartrate\\_bpm\\\\\n  & <dbl> & <dbl> & <dbl>\\\\\n\\hline\n\t1 & 97.1 & 1 & 73\\\\\n\t2 & 97.1 & 1 & 75\\\\\n\t3 & 97.1 & 1 & 82\\\\\n\t4 & 97.2 & 1 & 64\\\\\n\t5 & 97.3 & 1 & 69\\\\\n\t6 & 97.4 & 1 & 70\\\\\n\\end{tabular}\n",
            "text/plain": [
              "  bodytemp_degF gender heartrate_bpm\n",
              "1 97.1          1      73           \n",
              "2 97.1          1      75           \n",
              "3 97.1          1      82           \n",
              "4 97.2          1      64           \n",
              "5 97.3          1      69           \n",
              "6 97.4          1      70           "
            ]
          },
          "metadata": {}
        }
      ]
    },
    {
      "cell_type": "code",
      "source": [
        "cardiacdata <- mutate(cardiacdata, bodytemp_degC = (bodytemp_degF - 32)*(5/9))"
      ],
      "metadata": {
        "id": "aAUseTgtBmqz"
      },
      "execution_count": 38,
      "outputs": []
    },
    {
      "cell_type": "code",
      "source": [
        "cardiacdata <- mutate(cardiacdata, gender = ifelse(gender == 1, 'Female', \n",
        "                                                   ifelse(gender == 2, 'Male', NA)))"
      ],
      "metadata": {
        "id": "p1itJQFeBoxp"
      },
      "execution_count": 39,
      "outputs": []
    },
    {
      "cell_type": "code",
      "source": [
        "head(cardiacdata)"
      ],
      "metadata": {
        "colab": {
          "base_uri": "https://localhost:8080/",
          "height": 286
        },
        "id": "ZT1qWFsSBtUU",
        "outputId": "5d105c06-f1bf-47ca-a7fc-94a00b6c93c1"
      },
      "execution_count": 40,
      "outputs": [
        {
          "output_type": "display_data",
          "data": {
            "text/html": [
              "<table class=\"dataframe\">\n",
              "<caption>A data.frame: 6 × 4</caption>\n",
              "<thead>\n",
              "\t<tr><th></th><th scope=col>bodytemp_degF</th><th scope=col>gender</th><th scope=col>heartrate_bpm</th><th scope=col>bodytemp_degC</th></tr>\n",
              "\t<tr><th></th><th scope=col>&lt;dbl&gt;</th><th scope=col>&lt;chr&gt;</th><th scope=col>&lt;dbl&gt;</th><th scope=col>&lt;dbl&gt;</th></tr>\n",
              "</thead>\n",
              "<tbody>\n",
              "\t<tr><th scope=row>1</th><td>97.1</td><td>Female</td><td>73</td><td>36.16667</td></tr>\n",
              "\t<tr><th scope=row>2</th><td>97.1</td><td>Female</td><td>75</td><td>36.16667</td></tr>\n",
              "\t<tr><th scope=row>3</th><td>97.1</td><td>Female</td><td>82</td><td>36.16667</td></tr>\n",
              "\t<tr><th scope=row>4</th><td>97.2</td><td>Female</td><td>64</td><td>36.22222</td></tr>\n",
              "\t<tr><th scope=row>5</th><td>97.3</td><td>Female</td><td>69</td><td>36.27778</td></tr>\n",
              "\t<tr><th scope=row>6</th><td>97.4</td><td>Female</td><td>70</td><td>36.33333</td></tr>\n",
              "</tbody>\n",
              "</table>\n"
            ],
            "text/markdown": "\nA data.frame: 6 × 4\n\n| <!--/--> | bodytemp_degF &lt;dbl&gt; | gender &lt;chr&gt; | heartrate_bpm &lt;dbl&gt; | bodytemp_degC &lt;dbl&gt; |\n|---|---|---|---|---|\n| 1 | 97.1 | Female | 73 | 36.16667 |\n| 2 | 97.1 | Female | 75 | 36.16667 |\n| 3 | 97.1 | Female | 82 | 36.16667 |\n| 4 | 97.2 | Female | 64 | 36.22222 |\n| 5 | 97.3 | Female | 69 | 36.27778 |\n| 6 | 97.4 | Female | 70 | 36.33333 |\n\n",
            "text/latex": "A data.frame: 6 × 4\n\\begin{tabular}{r|llll}\n  & bodytemp\\_degF & gender & heartrate\\_bpm & bodytemp\\_degC\\\\\n  & <dbl> & <chr> & <dbl> & <dbl>\\\\\n\\hline\n\t1 & 97.1 & Female & 73 & 36.16667\\\\\n\t2 & 97.1 & Female & 75 & 36.16667\\\\\n\t3 & 97.1 & Female & 82 & 36.16667\\\\\n\t4 & 97.2 & Female & 64 & 36.22222\\\\\n\t5 & 97.3 & Female & 69 & 36.27778\\\\\n\t6 & 97.4 & Female & 70 & 36.33333\\\\\n\\end{tabular}\n",
            "text/plain": [
              "  bodytemp_degF gender heartrate_bpm bodytemp_degC\n",
              "1 97.1          Female 73            36.16667     \n",
              "2 97.1          Female 75            36.16667     \n",
              "3 97.1          Female 82            36.16667     \n",
              "4 97.2          Female 64            36.22222     \n",
              "5 97.3          Female 69            36.27778     \n",
              "6 97.4          Female 70            36.33333     "
            ]
          },
          "metadata": {}
        }
      ]
    },
    {
      "cell_type": "code",
      "source": [
        "cardiacdata_female <- filter(cardiacdata, gender == 'Female')"
      ],
      "metadata": {
        "id": "hFw65v9nBuwv"
      },
      "execution_count": 41,
      "outputs": []
    },
    {
      "cell_type": "code",
      "source": [
        "cardiacdata <- cardiacdata %>%\n",
        "  filter(gender == 'Female') %>%\n",
        "  select(-gender) %>%\n",
        "  mutate(bodytemp_Kelvin = bodytemp_degC + 273)"
      ],
      "metadata": {
        "id": "1Kehlsa7B0bX"
      },
      "execution_count": 42,
      "outputs": []
    },
    {
      "cell_type": "code",
      "source": [
        "bodytemp <- c(97.1,97.1,97.1,97.2,97.3,97.4,97.4,97.4,97.4,97.5,97.5,97.6,97.6,97.6)\n",
        "gender <- c(1,1,1,1,1,1,1,1,1,1,1,1,1,1)\n",
        "heartrate <- c(73,75,82,64,69,70,68,72,78,70,75,74,69,69)"
      ],
      "metadata": {
        "id": "0W1lu5zaB3ww"
      },
      "execution_count": 43,
      "outputs": []
    },
    {
      "cell_type": "code",
      "source": [
        "cardiacdata <- data.frame(bodytemp = bodytemp, gender = gender, heartrate = heartrate)"
      ],
      "metadata": {
        "id": "VEpKtKq3B6FY"
      },
      "execution_count": 44,
      "outputs": []
    },
    {
      "cell_type": "code",
      "source": [
        "# extract column 'bodytemp' and assign to new object 'temperatures'\n",
        "temperatures <- cardiacdata$bodytemp"
      ],
      "metadata": {
        "id": "Tm-ReB5SB8nx"
      },
      "execution_count": 45,
      "outputs": []
    },
    {
      "cell_type": "code",
      "source": [
        "# select columns 'gender' and 'heartrate' and assign to new object 'heartrates'\n",
        "heartrates <- select(cardiacdata, gender, heartrate)"
      ],
      "metadata": {
        "id": "UuBOJr4fCAVt"
      },
      "execution_count": 46,
      "outputs": []
    },
    {
      "cell_type": "code",
      "source": [
        "cardiacdata <- rename(cardiacdata, bodytemp_degF = bodytemp)"
      ],
      "metadata": {
        "id": "Ahl-q_3QCCLf"
      },
      "execution_count": 47,
      "outputs": []
    },
    {
      "cell_type": "code",
      "source": [
        "cardiacdata <- rename(cardiacdata, heartrate_bpm = heartrate)\n",
        "cardiacdata <- mutate(cardiacdata, bodytemp_degC = (bodytemp_degF - 32)*(5/9))\n",
        "cardiacdata <- mutate(cardiacdata, gender = ifelse(gender == 1, 'Female', \n",
        "                                                   ifelse(gender == 2, 'Male', NA)))"
      ],
      "metadata": {
        "id": "k_fv4LErCDBH"
      },
      "execution_count": 48,
      "outputs": []
    },
    {
      "cell_type": "code",
      "source": [
        "cardiacdata_byGender <- cardiacdata %>%\n",
        "  group_by(gender) %>%                                \n",
        "  summarize(avg_bodytemp_degF = mean(bodytemp_degF),    \n",
        "            avg_bodytemp_degC = mean(bodytemp_degC), \n",
        "            avg_heartrate_bpm = mean(heartrate_bpm))"
      ],
      "metadata": {
        "id": "_6GFPmIXCFJP"
      },
      "execution_count": 49,
      "outputs": []
    },
    {
      "cell_type": "code",
      "source": [
        "some_numbers <- c(4,5,6,7,NA,8)\n",
        "mean(some_numbers)"
      ],
      "metadata": {
        "colab": {
          "base_uri": "https://localhost:8080/",
          "height": 34
        },
        "id": "MGMG367aCIRG",
        "outputId": "6e8281b8-ef00-40db-c51a-97f85ca45776"
      },
      "execution_count": 50,
      "outputs": [
        {
          "output_type": "display_data",
          "data": {
            "text/html": [
              "&lt;NA&gt;"
            ],
            "text/markdown": "&lt;NA&gt;",
            "text/latex": "<NA>",
            "text/plain": [
              "[1] NA"
            ]
          },
          "metadata": {}
        }
      ]
    },
    {
      "cell_type": "code",
      "source": [
        "mean(some_numbers, na.rm = TRUE)"
      ],
      "metadata": {
        "colab": {
          "base_uri": "https://localhost:8080/",
          "height": 34
        },
        "id": "AIqE0J1HCKn9",
        "outputId": "c5b8b7c7-e342-4af1-dd71-c9bd41177742"
      },
      "execution_count": 51,
      "outputs": [
        {
          "output_type": "display_data",
          "data": {
            "text/html": [
              "6"
            ],
            "text/markdown": "6",
            "text/latex": "6",
            "text/plain": [
              "[1] 6"
            ]
          },
          "metadata": {}
        }
      ]
    },
    {
      "cell_type": "code",
      "source": [
        "ggplot(data = cardiacdata, mapping = aes(x = bodytemp_degC)) + \n",
        "  geom_histogram(bins = 20)"
      ],
      "metadata": {
        "colab": {
          "base_uri": "https://localhost:8080/",
          "height": 437
        },
        "id": "NRyI0k1tCNw-",
        "outputId": "ae57b03d-3479-4aa5-81ab-6deb03147ebf"
      },
      "execution_count": 52,
      "outputs": [
        {
          "output_type": "display_data",
          "data": {
            "text/plain": [
              "plot without title"
            ],
            "image/png": "[encoded data removed]"
          },
          "metadata": {
            "image/png": {
              "width": 420,
              "height": 420
            }
          }
        }
      ]
    },
    {
      "cell_type": "code",
      "source": [
        "ggplot(data = cardiacdata, mapping = aes(x = bodytemp_degC)) + \n",
        "  geom_histogram(bins = 20, aes(y = ..density..))"
      ],
      "metadata": {
        "colab": {
          "base_uri": "https://localhost:8080/",
          "height": 491
        },
        "id": "_4E2xcM-CQk9",
        "outputId": "21083791-de9f-49cf-d8d3-881643b073b3"
      },
      "execution_count": 53,
      "outputs": [
        {
          "output_type": "stream",
          "name": "stderr",
          "text": [
            "Warning message:\n",
            "“\u001b[1m\u001b[22mThe dot-dot notation (`..density..`) was deprecated in ggplot2 3.4.0.\n",
            "\u001b[36mℹ\u001b[39m Please use `after_stat(density)` instead.”\n"
          ]
        },
        {
          "output_type": "display_data",
          "data": {
            "text/plain": [
              "plot without title"
            ],
            "image/png": "[encoded data removed]"
          },
          "metadata": {
            "image/png": {
              "width": 420,
              "height": 420
            }
          }
        }
      ]
    },
    {
      "cell_type": "code",
      "source": [
        "ggplot(data = cardiacdata, mapping = aes(x = bodytemp_degC)) + \n",
        "  geom_histogram(bins = 20, aes(y = ..density..), fill = 'lightblue') +\n",
        "  xlab('body temperature (celsius)') +\n",
        "  ggtitle('distribution of body temperatures') +\n",
        "  theme_light()"
      ],
      "metadata": {
        "colab": {
          "base_uri": "https://localhost:8080/",
          "height": 437
        },
        "id": "7cAhmj_nCTHo",
        "outputId": "3dea94af-07f9-4946-b68d-26b78659b495"
      },
      "execution_count": 54,
      "outputs": [
        {
          "output_type": "display_data",
          "data": {
            "text/plain": [
              "plot without title"
            ],
            "image/png": "[encoded data removed]"
          },
          "metadata": {
            "image/png": {
              "width": 420,
              "height": 420
            }
          }
        }
      ]
    },
    {
      "cell_type": "code",
      "source": [
        "ggplot(data = cardiacdata, mapping = aes(x = heartrate_bpm, y = bodytemp_degC)) + \n",
        "  geom_point() +\n",
        "  theme_light()"
      ],
      "metadata": {
        "colab": {
          "base_uri": "https://localhost:8080/",
          "height": 437
        },
        "id": "LYOqYGQkCWCv",
        "outputId": "f196ad10-3971-41b1-ee6f-09286c7fa140"
      },
      "execution_count": 55,
      "outputs": [
        {
          "output_type": "display_data",
          "data": {
            "text/plain": [
              "plot without title"
            ],
            "image/png": "[encoded data removed]"
          },
          "metadata": {
            "image/png": {
              "width": 420,
              "height": 420
            }
          }
        }
      ]
    },
    {
      "cell_type": "code",
      "source": [
        "ggplot(data = cardiacdata, mapping = aes(x = heartrate_bpm, y = bodytemp_degC, color = gender)) + \n",
        "  geom_point() +\n",
        "  theme_light()"
      ],
      "metadata": {
        "colab": {
          "base_uri": "https://localhost:8080/",
          "height": 437
        },
        "id": "GLkQAAQRCX58",
        "outputId": "de508a86-f489-4159-fa88-7dec7ff80997"
      },
      "execution_count": 56,
      "outputs": [
        {
          "output_type": "display_data",
          "data": {
            "text/plain": [
              "plot without title"
            ],
            "image/png": "[encoded data removed]"
          },
          "metadata": {
            "image/png": {
              "width": 420,
              "height": 420
            }
          }
        }
      ]
    },
    {
      "cell_type": "code",
      "source": [
        "ggplot(data = cardiacdata, mapping = aes(x = gender, y = bodytemp_degC)) +\n",
        "  geom_boxplot() +\n",
        "  xlab('gender') +\n",
        "  ylab('body temperature (celsius)') +\n",
        "  theme_light()"
      ],
      "metadata": {
        "colab": {
          "base_uri": "https://localhost:8080/",
          "height": 437
        },
        "id": "T_N05xcHCac3",
        "outputId": "d39f816b-b86c-4a05-f913-130deacbbe2d"
      },
      "execution_count": 57,
      "outputs": [
        {
          "output_type": "display_data",
          "data": {
            "text/plain": [
              "plot without title"
            ],
            "image/png": "[encoded data removed]"
          },
          "metadata": {
            "image/png": {
              "width": 420,
              "height": 420
            }
          }
        }
      ]
    }
  ]
}